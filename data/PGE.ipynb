{
 "cells": [
  {
   "cell_type": "code",
   "execution_count": 51,
   "metadata": {
    "colab": {
     "base_uri": "https://localhost:8080/"
    },
    "id": "Ct0OkIy-SI5a",
    "outputId": "38dcc0a7-06a3-4611-f67a-c2d6670f0667"
   },
   "outputs": [
    {
     "name": "stdout",
     "output_type": "stream",
     "text": [
      "Drive already mounted at /content/drive; to attempt to forcibly remount, call drive.mount(\"/content/drive\", force_remount=True).\n"
     ]
    }
   ],
   "source": [
    "from google.colab import drive\n",
    "drive.mount('/content/drive')"
   ]
  },
  {
   "cell_type": "code",
   "execution_count": 52,
   "metadata": {
    "id": "IH8l-iN0R3Nv"
   },
   "outputs": [],
   "source": [
    "# This library is used to handle and analyze structured data.\n",
    "# It allows reading CSV files, filtering rows/columns,\n",
    "# converting strings to numbers, and performing group operations.\n",
    "import pandas as pd\n",
    "\n",
    "# Used to exit the program if invalid input is entered or errors occur.\n",
    "# Helps in controlling the program flow based on error handling.\n",
    "import sys"
   ]
  },
  {
   "cell_type": "code",
   "execution_count": 53,
   "metadata": {
    "id": "j6H7kmgiF3fv"
   },
   "outputs": [],
   "source": [
    "import pandas as pd\n",
    "import sys\n",
    "\n",
    "class VisitorsAnalyticsUtils:\n",
    "    def __init__(self, file_path):\n",
    "        self.file_path = file_path\n",
    "        self.data = None\n",
    "\n",
    "\n",
    "    def main():\n",
    "        time_periods = {\n",
    "            \"1\": \"1978-1987\",\n",
    "            \"2\": \"1988-1997\",\n",
    "            \"3\": \"1998-2007\",\n",
    "            \"4\": \"2008-2017\"\n",
    "        }\n",
    "\n",
    "        region_map = {\n",
    "            \"1\": \"Asia\",\n",
    "            \"2\": \"Europe\",\n",
    "            \"3\": \"Others\"\n",
    "        }\n",
    "\n",
    "        year_input = input(\"Enter time period(1: 1978-1987, 2: 1988-1997, 3: 1998-2007, 4: 2008-2017): \").strip()\n",
    "        if year_input not in time_periods:\n",
    "            print(\"Invalid time period\")\n",
    "            sys.exit()\n",
    "        year_period = time_periods[year_input]\n",
    "\n",
    "        region_input = input(\"Enter region (1: Asia, 2: Europe, 3: Others): \").strip()\n",
    "        if region_input not in region_map:\n",
    "            print(\"Invalid region\")\n",
    "            sys.exit()\n",
    "        region = region_map[region_input]\n",
    "\n",
    "        return year_period, region\n",
    "\n",
    "    def loadDataFile(self):\n",
    "        try:\n",
    "            self.data = pd.read_csv(self.file_path, dtype=str)\n",
    "            self.data.columns = self.data.columns.str.strip()\n",
    "            self.data.rename(columns={self.data.columns[0]: \"Month_Year\"}, inplace=True)\n",
    "\n",
    "            # Replace \"na\" with 0.0\n",
    "            self.data.replace(to_replace=r'na', value='0.0', regex=True, inplace=True)\n",
    "\n",
    "            # Convert all data (except Month_Year) to numeric\n",
    "            for col in self.data.columns:\n",
    "                if col != \"Month_Year\":\n",
    "                    self.data[col] = self.data[col].str.replace(\",\", \"\", regex=False)\n",
    "                    self.data[col] = pd.to_numeric(self.data[col], errors='coerce').fillna(0.0)\n",
    "\n",
    "            # Extract year\n",
    "            self.data[\"year\"] = self.data[\"Month_Year\"].str.extract(r\"(\\d{4})\").astype(int)\n",
    "            print(\"*** first 5 rows of data loaded ***\")\n",
    "            print(self.data.head(5))\n",
    "\n",
    "        except Exception as e:\n",
    "            print(f\"Error loading file: {e}\")\n",
    "            sys.exit()\n",
    "\n",
    "    def parseData(self, year_period, region_name):\n",
    "        try:\n",
    "            if self.data is None:\n",
    "                print(\"Error: No data loaded. Please run `loadDataFile()` first.\")\n",
    "                return None\n",
    "\n",
    "            start_year, end_year = map(int, year_period.split(\"-\"))\n",
    "\n",
    "            df_filtered = self.data[(self.data[\"year\"] >= start_year) & (self.data[\"year\"] <= end_year)]\n",
    "\n",
    "            regions = {\n",
    "                \"Asia\": ['Brunei Darussalam', 'Indonesia', 'Malaysia', 'Philippines', 'Thailand', 'Viet Nam',\n",
    "                         'Myanmar', 'Japan', 'Hong Kong', 'India', 'China', 'Korea, Republic Of', 'Taiwan'],\n",
    "                \"Europe\": ['United Kingdom', 'Germany', 'France', 'Italy', 'Netherlands', 'Greece',\n",
    "                           'Belgium & Luxembourg', 'Switzerland', 'Austria', 'Scandinavia', 'CIS & Eastern Europe'],\n",
    "                \"Others\": ['USA', 'Canada', 'Australia', 'New Zealand', 'Africa']\n",
    "            }\n",
    "\n",
    "            selected_columns = ['year'] + regions.get(region_name, [])\n",
    "            df_parsed = df_filtered[selected_columns].copy()\n",
    "\n",
    "            print(\"\\n*** Parsed Data (Regions) ***\")\n",
    "            print(df_parsed.info())\n",
    "\n",
    "            print(\"\\n*** Parsed Data (Years) ***\")\n",
    "            print(df_parsed[\"year\"].describe())\n",
    "\n",
    "            self.data = df_parsed\n",
    "            return df_parsed\n",
    "\n",
    "        except Exception as e:\n",
    "            print(f\"An error occurred in parseData: {e}\")\n",
    "            return None\n",
    "\n",
    "    def getTop3Countries(self, df):\n",
    "        try:\n",
    "            df_numeric = df.drop(columns=[\"year\"])\n",
    "            total_visitors = df_numeric.sum()\n",
    "            top_3 = total_visitors.sort_values(ascending=False).head(3)\n",
    "\n",
    "            print(\"\\n*** Top 3 countries ***\")\n",
    "            print(top_3)\n",
    "\n",
    "        except Exception as e:\n",
    "            print(f\"Error in getTop3Countries: {e}\")\n"
   ]
  },
  {
   "cell_type": "code",
   "execution_count": 54,
   "metadata": {
    "colab": {
     "base_uri": "https://localhost:8080/"
    },
    "id": "duF0PMz7Zd80",
    "outputId": "cde7a843-e9df-492b-fa85-26cd440bc9a5"
   },
   "outputs": [
    {
     "name": "stdout",
     "output_type": "stream",
     "text": [
      "Enter time period(1: 1978-1987, 2: 1988-1997, 3: 1998-2007, 4: 2008-2017): 3\n",
      "Enter region (1: Asia, 2: Europe, 3: Others): 3\n",
      "*** first 5 rows of data loaded ***\n",
      "   Month_Year  Brunei Darussalam  Indonesia  Malaysia  Philippines  Thailand  \\\n",
      "0   1978 Jan                 0.0        0.0       0.0          0.0       0.0   \n",
      "1   1978 Feb                 0.0        0.0       0.0          0.0       0.0   \n",
      "2   1978 Mar                 0.0        0.0       0.0          0.0       0.0   \n",
      "3   1978 Apr                 0.0        0.0       0.0          0.0       0.0   \n",
      "4   1978 May                 0.0        0.0       0.0          0.0       0.0   \n",
      "\n",
      "   Viet Nam  Myanmar  Japan  Hong Kong  ...  Switzerland  Austria  \\\n",
      "0       0.0      0.0  18652       3148  ...         2185      0.0   \n",
      "1       0.0      0.0  20394       5805  ...         1596      0.0   \n",
      "2       0.0      0.0  20136       4510  ...         1461      0.0   \n",
      "3       0.0      0.0  13508       3254  ...         1472      0.0   \n",
      "4       0.0      0.0  14472       3212  ...         1189      0.0   \n",
      "\n",
      "   Scandinavia  CIS & Eastern Europe    USA  Canada  Australia  New Zealand  \\\n",
      "0         1881                   433   8362    1328      28421         3612   \n",
      "1         2112                   514   8251    1434      13982         2521   \n",
      "2         2183                   472   9901    1662      16536         2727   \n",
      "3         1590                   405  11782    1586      16499         3197   \n",
      "4         1245                   431  13448    2025      20690         5130   \n",
      "\n",
      "   Africa  year  \n",
      "0     587  1978  \n",
      "1     354  1978  \n",
      "2     405  1978  \n",
      "3     736  1978  \n",
      "4     514  1978  \n",
      "\n",
      "[5 rows x 36 columns]\n",
      "\n",
      "*** Parsed Data (Regions) ***\n",
      "<class 'pandas.core.frame.DataFrame'>\n",
      "Index: 120 entries, 240 to 359\n",
      "Data columns (total 6 columns):\n",
      " #   Column       Non-Null Count  Dtype\n",
      "---  ------       --------------  -----\n",
      " 0   year         120 non-null    int64\n",
      " 1   USA          120 non-null    int64\n",
      " 2   Canada       120 non-null    int64\n",
      " 3   Australia    120 non-null    int64\n",
      " 4   New Zealand  120 non-null    int64\n",
      " 5   Africa       120 non-null    int64\n",
      "dtypes: int64(6)\n",
      "memory usage: 6.6 KB\n",
      "None\n",
      "\n",
      "*** Parsed Data (Years) ***\n",
      "count     120.000000\n",
      "mean     2002.500000\n",
      "std         2.884324\n",
      "min      1998.000000\n",
      "25%      2000.000000\n",
      "50%      2002.500000\n",
      "75%      2005.000000\n",
      "max      2007.000000\n",
      "Name: year, dtype: float64\n",
      "\n",
      "*** Top 3 countries ***\n",
      "Australia      5527129\n",
      "USA            3514969\n",
      "New Zealand     989725\n",
      "dtype: int64\n"
     ]
    }
   ],
   "source": [
    "year_period, region = VisitorsAnalyticsUtils.main()\n",
    "file_path = \"/content/drive/MyDrive/pge_lecia/Int_Monthly_Visitor.csv\"\n",
    "utils = VisitorsAnalyticsUtils(file_path)\n",
    "utils.loadDataFile()\n",
    "\n",
    "df_parsed = utils.parseData(year_period, region)\n",
    "if df_parsed is not None:\n",
    "    utils.getTop3Countries(df_parsed)\n"
   ]
  },
  {
   "cell_type": "code",
   "execution_count": null,
   "metadata": {
    "id": "58pkLWYa2u14"
   },
   "outputs": [],
   "source": []
  }
 ],
 "metadata": {
  "colab": {
   "provenance": []
  },
  "kernelspec": {
   "display_name": "Python 3 (ipykernel)",
   "language": "python",
   "name": "python3"
  },
  "language_info": {
   "codemirror_mode": {
    "name": "ipython",
    "version": 3
   },
   "file_extension": ".py",
   "mimetype": "text/x-python",
   "name": "python",
   "nbconvert_exporter": "python",
   "pygments_lexer": "ipython3",
   "version": "3.11.7"
  }
 },
 "nbformat": 4,
 "nbformat_minor": 4
}
