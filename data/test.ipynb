{
 "cells": [
  {
   "cell_type": "code",
   "execution_count": 1,
   "id": "1972ef2d-2b61-4c6b-9a92-5f499f50e3dd",
   "metadata": {},
   "outputs": [
    {
     "name": "stderr",
     "output_type": "stream",
     "text": [
      ".\n",
      "----------------------------------------------------------------------\n",
      "Ran 1 test in 0.186s\n",
      "\n",
      "OK\n"
     ]
    },
    {
     "name": "stdout",
     "output_type": "stream",
     "text": [
      "*** first 5 rows of data loaded ***\n",
      "   Month_Year  Brunei Darussalam  Indonesia  Malaysia  Philippines  Thailand  \\\n",
      "0   1978 Jan                 0.0        0.0       0.0          0.0       0.0   \n",
      "1   1978 Feb                 0.0        0.0       0.0          0.0       0.0   \n",
      "2   1978 Mar                 0.0        0.0       0.0          0.0       0.0   \n",
      "3   1978 Apr                 0.0        0.0       0.0          0.0       0.0   \n",
      "4   1978 May                 0.0        0.0       0.0          0.0       0.0   \n",
      "\n",
      "   Viet Nam  Myanmar  Japan  Hong Kong  ...  Switzerland  Austria  \\\n",
      "0       0.0      0.0  18652       3148  ...         2185      0.0   \n",
      "1       0.0      0.0  20394       5805  ...         1596      0.0   \n",
      "2       0.0      0.0  20136       4510  ...         1461      0.0   \n",
      "3       0.0      0.0  13508       3254  ...         1472      0.0   \n",
      "4       0.0      0.0  14472       3212  ...         1189      0.0   \n",
      "\n",
      "   Scandinavia  CIS & Eastern Europe    USA  Canada  Australia  New Zealand  \\\n",
      "0         1881                   433   8362    1328      28421         3612   \n",
      "1         2112                   514   8251    1434      13982         2521   \n",
      "2         2183                   472   9901    1662      16536         2727   \n",
      "3         1590                   405  11782    1586      16499         3197   \n",
      "4         1245                   431  13448    2025      20690         5130   \n",
      "\n",
      "   Africa  year  \n",
      "0     587  1978  \n",
      "1     354  1978  \n",
      "2     405  1978  \n",
      "3     736  1978  \n",
      "4     514  1978  \n",
      "\n",
      "[5 rows x 36 columns]\n",
      "\n",
      "Detected Rows: 479\n",
      "Detected Columns: 36\n"
     ]
    }
   ],
   "source": [
    "%run test.py"
   ]
  }
 ],
 "metadata": {
  "kernelspec": {
   "display_name": "Python 3 (ipykernel)",
   "language": "python",
   "name": "python3"
  },
  "language_info": {
   "codemirror_mode": {
    "name": "ipython",
    "version": 3
   },
   "file_extension": ".py",
   "mimetype": "text/x-python",
   "name": "python",
   "nbconvert_exporter": "python",
   "pygments_lexer": "ipython3",
   "version": "3.11.7"
  }
 },
 "nbformat": 4,
 "nbformat_minor": 5
}
